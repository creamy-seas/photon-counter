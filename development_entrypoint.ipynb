{
 "cells": [
  {
   "cell_type": "code",
   "execution_count": 1,
   "metadata": {
    "init_cell": true
   },
   "outputs": [
    {
     "ename": "RuntimeError",
     "evalue": "Failed to load the custom photon-counting library - make sure that it has been built!: ./bin/ia_1488.so: cannot open shared object file: No such file or directory",
     "output_type": "error",
     "traceback": [
      "\u001b[0;31m---------------------------------------------------------------------------\u001b[0m",
      "\u001b[0;31mOSError\u001b[0m                                   Traceback (most recent call last)",
      "\u001b[0;32m~/photon_counting/python_app/sp_digitiser.py\u001b[0m in \u001b[0;36m<module>\u001b[0;34m\u001b[0m\n\u001b[1;32m     20\u001b[0m \u001b[0;32mtry\u001b[0m\u001b[0;34m:\u001b[0m\u001b[0;34m\u001b[0m\u001b[0;34m\u001b[0m\u001b[0m\n\u001b[0;32m---> 21\u001b[0;31m     \u001b[0mia_ADQAPI\u001b[0m \u001b[0;34m=\u001b[0m \u001b[0mcdll\u001b[0m\u001b[0;34m.\u001b[0m\u001b[0mLoadLibrary\u001b[0m\u001b[0;34m(\u001b[0m\u001b[0;34m\"./bin/ia_1488.so\"\u001b[0m\u001b[0;34m)\u001b[0m\u001b[0;34m\u001b[0m\u001b[0;34m\u001b[0m\u001b[0m\n\u001b[0m\u001b[1;32m     22\u001b[0m \u001b[0;32mexcept\u001b[0m \u001b[0mException\u001b[0m \u001b[0;32mas\u001b[0m \u001b[0merr\u001b[0m\u001b[0;34m:\u001b[0m\u001b[0;34m\u001b[0m\u001b[0;34m\u001b[0m\u001b[0m\n",
      "\u001b[0;32m/usr/lib64/python3.6/ctypes/__init__.py\u001b[0m in \u001b[0;36mLoadLibrary\u001b[0;34m(self, name)\u001b[0m\n\u001b[1;32m    420\u001b[0m     \u001b[0;32mdef\u001b[0m \u001b[0mLoadLibrary\u001b[0m\u001b[0;34m(\u001b[0m\u001b[0mself\u001b[0m\u001b[0;34m,\u001b[0m \u001b[0mname\u001b[0m\u001b[0;34m)\u001b[0m\u001b[0;34m:\u001b[0m\u001b[0;34m\u001b[0m\u001b[0;34m\u001b[0m\u001b[0m\n\u001b[0;32m--> 421\u001b[0;31m         \u001b[0;32mreturn\u001b[0m \u001b[0mself\u001b[0m\u001b[0;34m.\u001b[0m\u001b[0m_dlltype\u001b[0m\u001b[0;34m(\u001b[0m\u001b[0mname\u001b[0m\u001b[0;34m)\u001b[0m\u001b[0;34m\u001b[0m\u001b[0;34m\u001b[0m\u001b[0m\n\u001b[0m\u001b[1;32m    422\u001b[0m \u001b[0;34m\u001b[0m\u001b[0m\n",
      "\u001b[0;32m/usr/lib64/python3.6/ctypes/__init__.py\u001b[0m in \u001b[0;36m__init__\u001b[0;34m(self, name, mode, handle, use_errno, use_last_error)\u001b[0m\n\u001b[1;32m    342\u001b[0m         \u001b[0;32mif\u001b[0m \u001b[0mhandle\u001b[0m \u001b[0;32mis\u001b[0m \u001b[0;32mNone\u001b[0m\u001b[0;34m:\u001b[0m\u001b[0;34m\u001b[0m\u001b[0;34m\u001b[0m\u001b[0m\n\u001b[0;32m--> 343\u001b[0;31m             \u001b[0mself\u001b[0m\u001b[0;34m.\u001b[0m\u001b[0m_handle\u001b[0m \u001b[0;34m=\u001b[0m \u001b[0m_dlopen\u001b[0m\u001b[0;34m(\u001b[0m\u001b[0mself\u001b[0m\u001b[0;34m.\u001b[0m\u001b[0m_name\u001b[0m\u001b[0;34m,\u001b[0m \u001b[0mmode\u001b[0m\u001b[0;34m)\u001b[0m\u001b[0;34m\u001b[0m\u001b[0;34m\u001b[0m\u001b[0m\n\u001b[0m\u001b[1;32m    344\u001b[0m         \u001b[0;32melse\u001b[0m\u001b[0;34m:\u001b[0m\u001b[0;34m\u001b[0m\u001b[0;34m\u001b[0m\u001b[0m\n",
      "\u001b[0;31mOSError\u001b[0m: ./bin/ia_1488.so: cannot open shared object file: No such file or directory",
      "\nDuring handling of the above exception, another exception occurred:\n",
      "\u001b[0;31mRuntimeError\u001b[0m                              Traceback (most recent call last)",
      "\u001b[0;32m<ipython-input-1-b1db623c4608>\u001b[0m in \u001b[0;36m<module>\u001b[0;34m\u001b[0m\n\u001b[1;32m      5\u001b[0m \u001b[0;32mfrom\u001b[0m \u001b[0mpython_app\u001b[0m\u001b[0;34m.\u001b[0m\u001b[0mutils\u001b[0m\u001b[0;34m.\u001b[0m\u001b[0mgpu_utils\u001b[0m \u001b[0;32mimport\u001b[0m \u001b[0mfetch_gpu_parameters\u001b[0m\u001b[0;34m,\u001b[0m \u001b[0mcheck_gpu_allocation\u001b[0m\u001b[0;34m\u001b[0m\u001b[0;34m\u001b[0m\u001b[0m\n\u001b[1;32m      6\u001b[0m \u001b[0;32mfrom\u001b[0m \u001b[0mpython_app\u001b[0m\u001b[0;34m.\u001b[0m\u001b[0mpower_kernel\u001b[0m \u001b[0;32mimport\u001b[0m \u001b[0mPowerKernel\u001b[0m\u001b[0;34m\u001b[0m\u001b[0;34m\u001b[0m\u001b[0m\n\u001b[0;32m----> 7\u001b[0;31m \u001b[0;32mfrom\u001b[0m \u001b[0mpython_app\u001b[0m\u001b[0;34m.\u001b[0m\u001b[0msp_digitiser\u001b[0m \u001b[0;32mimport\u001b[0m \u001b[0mSpDigitiser\u001b[0m\u001b[0;34m\u001b[0m\u001b[0;34m\u001b[0m\u001b[0m\n\u001b[0m\u001b[1;32m      8\u001b[0m \u001b[0;34m\u001b[0m\u001b[0m\n\u001b[1;32m      9\u001b[0m \u001b[0mGPU_PARAMETERS\u001b[0m \u001b[0;34m=\u001b[0m \u001b[0mfetch_gpu_parameters\u001b[0m\u001b[0;34m(\u001b[0m\u001b[0mverbose\u001b[0m\u001b[0;34m=\u001b[0m\u001b[0;32mTrue\u001b[0m\u001b[0;34m)\u001b[0m\u001b[0;34m\u001b[0m\u001b[0;34m\u001b[0m\u001b[0m\n",
      "\u001b[0;32m~/photon_counting/python_app/sp_digitiser.py\u001b[0m in \u001b[0;36m<module>\u001b[0;34m\u001b[0m\n\u001b[1;32m     22\u001b[0m \u001b[0;32mexcept\u001b[0m \u001b[0mException\u001b[0m \u001b[0;32mas\u001b[0m \u001b[0merr\u001b[0m\u001b[0;34m:\u001b[0m\u001b[0;34m\u001b[0m\u001b[0;34m\u001b[0m\u001b[0m\n\u001b[1;32m     23\u001b[0m     raise RuntimeError(\n\u001b[0;32m---> 24\u001b[0;31m         \u001b[0;34mf\"Failed to load the custom photon-counting library - make sure that it has been built!: {err}\"\u001b[0m\u001b[0;34m\u001b[0m\u001b[0;34m\u001b[0m\u001b[0m\n\u001b[0m\u001b[1;32m     25\u001b[0m     )\n\u001b[1;32m     26\u001b[0m \u001b[0;34m\u001b[0m\u001b[0m\n",
      "\u001b[0;31mRuntimeError\u001b[0m: Failed to load the custom photon-counting library - make sure that it has been built!: ./bin/ia_1488.so: cannot open shared object file: No such file or directory"
     ]
    }
   ],
   "source": [
    "import numba as nb\n",
    "import numpy as pn\n",
    "from numba import cuda\n",
    "\n",
    "from python_app.utils.gpu_utils import fetch_gpu_parameters, check_gpu_allocation\n",
    "from python_app.power_kernel import PowerKernel\n",
    "from python_app.sp_digitiser import SpDigitiser\n",
    "\n",
    "GPU_PARAMETERS = fetch_gpu_parameters(verbose=True)\n",
    "display(GPU_PARAMETERS)"
   ]
  },
  {
   "cell_type": "code",
   "execution_count": 14,
   "metadata": {},
   "outputs": [
    {
     "name": "stdout",
     "output_type": "stream",
     "text": [
      "\u001b[1;34m\u001b[4mSP-DIGITISER\u001b[0m:   \n",
      "                Max Samples for (number_of_records=100): 254200\n",
      "                Max Records for (samples_per_record=1000): 65027\n",
      "\u001b[1;34m\u001b[4mSP-DIGITISER\u001b[0m:   Trigger frequency: 860kHz\n",
      "\u001b[1;34m\u001b[4mSP-DIGITISER\u001b[0m:   🕱 Destructor activated\n",
      "254200\n"
     ]
    }
   ],
   "source": [
    "from ctypes import cdll\n",
    "ia_ADQAPI = cdll.LoadLibrary(\"./bin/ia_1488.so\")\n",
    "sp_digitiser_parameters = {\n",
    "    \"number_of_records\": 100,\n",
    "    \"samples_per_record\": 1000,\n",
    "    \"delay\": 0,\n",
    "    \"trigger_type\": SpDigitiser.TRIGGER_EXTERNAL,\n",
    "    \"channelA_gain\": 1,\n",
    "    \"channelB_gain\": 1,\n",
    "    \"channelA_offset\": 0,\n",
    "    \"channelB_offset\": 0,\n",
    "}\n",
    "spd = SpDigitiser(sp_digitiser_parameters)\n",
    "\n",
    "# print(ia_ADQAPI.GetMaxNofSamplesFromNofRecords(spd.adq_cu_ptr, 128))\n",
    "print(ia_ADQAPI.GetMaxNofRecordsFromNofSamples(spd.adq_cu_ptr, 200))"
   ]
  },
  {
   "cell_type": "code",
   "execution_count": 11,
   "metadata": {},
   "outputs": [
    {
     "name": "stdout",
     "output_type": "stream",
     "text": [
      "254200\n"
     ]
    }
   ],
   "source": [
    "print(ia_ADQAPI.GetMaxNofRecordsFromNofSamples(spd.adq_cu_ptr, 200))"
   ]
  },
  {
   "cell_type": "code",
   "execution_count": 7,
   "metadata": {},
   "outputs": [
    {
     "ename": "ArgumentError",
     "evalue": "argument 1: <class 'TypeError'>: Don't know how to convert parameter 1",
     "output_type": "error",
     "traceback": [
      "\u001b[0;31m---------------------------------------------------------------------------\u001b[0m",
      "\u001b[0;31mArgumentError\u001b[0m                             Traceback (most recent call last)",
      "\u001b[0;32m<ipython-input-7-2db9025d4277>\u001b[0m in \u001b[0;36m<module>\u001b[0;34m\u001b[0m\n\u001b[0;32m----> 1\u001b[0;31m \u001b[0mia_ADQAPI\u001b[0m\u001b[0;34m.\u001b[0m\u001b[0mexample_gpu_func\u001b[0m\u001b[0;34m(\u001b[0m\u001b[0;36m1.1\u001b[0m\u001b[0;34m,\u001b[0m\u001b[0;36m2.2\u001b[0m\u001b[0;34m)\u001b[0m\u001b[0;34m\u001b[0m\u001b[0;34m\u001b[0m\u001b[0m\n\u001b[0m",
      "\u001b[0;31mArgumentError\u001b[0m: argument 1: <class 'TypeError'>: Don't know how to convert parameter 1"
     ]
    }
   ],
   "source": [
    "ia_ADQAPI.example_gpu_func(1.1,2.2)"
   ]
  },
  {
   "cell_type": "markdown",
   "metadata": {},
   "source": [
    "# Power measurements\n",
    "- `Period`: Number of points (each one 2.5ns) in a single pulse sequence\n",
    "- `N`: Number periods to look at\n",
    "- `NP = Period * N`\n",
    "- `Repetition (R)`: How many times `NP` is repeated for this measurement\n",
    "\n",
    "`TOTAL_NUMBER_OF_POINTS = R*NP`\n",
    "\n",
    "##### Averaging\n",
    "The array of values from digitiser is cast into a 2D array of dimension `NP x R`, and each column of length `R` is summed up"
   ]
  },
  {
   "cell_type": "code",
   "execution_count": 4,
   "metadata": {},
   "outputs": [
    {
     "name": "stdout",
     "output_type": "stream",
     "text": [
      "\u001b[34m\u001b[1mPOWER-KERNEL\u001b[0m:                                       Loaded following parameters:\n",
      "{\n",
      "    \"RECORD_LENGTH\": 65536,\n",
      "    \"DEVICE_PRECISION\": 14,\n",
      "    \"PROCESSING_ARRAY_TYPE\": \"<class 'numpy.int32'>\",\n",
      "    \"INPUT_ARRAY_TYPE\": \"<class 'numpy.int16'>\",\n",
      "    \"OUTPUT_ARRAY_TYPE\": \"<class 'numpy.float32'>\",\n",
      "    \"N\": 8,\n",
      "    \"PERIOD_IN_NS\": 160,\n",
      "    \"MAX_DEVICE_CODE\": 8192,\n",
      "    \"STORAGE_PRECISION\": 4,\n",
      "    \"MAX_STORE_CODE\": 2147483648,\n",
      "    \"P\": 64,\n",
      "    \"SP_POINTS\": 512,\n",
      "    \"R_POINTS\": 128,\n",
      "    \"TOTAL_POINTS\": 65536,\n",
      "    \"BLOCKS\": 512,\n",
      "    \"THREADS_PER_BLOCK\": 128\n",
      "}\n"
     ]
    }
   ],
   "source": [
    "raw_paramters = {\n",
    "    \"RECORD_LENGTH\": 65536, # Read this parameter from SP-devices\n",
    "    \"DEVICE_PRECISION\": 14, # 14 bit precision from -ve to +ve\n",
    "    \"PROCESSING_ARRAY_TYPE\": np.int32,\n",
    "    \"INPUT_ARRAY_TYPE\": np.int16,\n",
    "    \"OUTPUT_ARRAY_TYPE\": np.float32,\n",
    "    \"N\": 8,\n",
    "    \"PERIOD_IN_NS\": 160\n",
    "}\n",
    "\n",
    "\n",
    "derived_parameters = {}\n",
    "derived_parameters[\"MAX_DEVICE_CODE\"] = 2**(raw_paramters[\"DEVICE_PRECISION\"] - 1)\n",
    "\n",
    "# We will sum up all repetitions and then take average. This makes sure that the allocate processing array is able to store the max value\n",
    "derived_parameters[\"STORAGE_PRECISION\"] = np.dtype(raw_paramters['PROCESSING_ARRAY_TYPE']).itemsize\n",
    "derived_parameters[\"MAX_STORE_CODE\"] = 2**(derived_parameters[\"STORAGE_PRECISION\"] * 8 - 1)\n",
    "\n",
    "derived_parameters[\"P\"] = int(raw_paramters[\"PERIOD_IN_NS\"] // 2.5)\n",
    "derived_parameters[\"SP_POINTS\"] = raw_paramters[\"N\"] * derived_parameters[\"P\"]\n",
    "derived_parameters[\"R_POINTS\"] = raw_paramters[\"RECORD_LENGTH\"] // derived_parameters[\"SP_POINTS\"]\n",
    "derived_parameters[\"TOTAL_POINTS\"] = derived_parameters[\"R_POINTS\"] * derived_parameters[\"SP_POINTS\"]\n",
    "\n",
    "# Allocate blocks and threads\n",
    "derived_parameters[\"BLOCKS\"] = min(GPU_PARAMETERS[\"grid_dim_x\"], derived_parameters[\"SP_POINTS\"])\n",
    "derived_parameters[\"THREADS_PER_BLOCK\"] = min(GPU_PARAMETERS[\"threads_per_block\"], derived_parameters[\"R_POINTS\"])\n",
    "                                   \n",
    "power_kernel_parameters = {\n",
    "    **raw_paramters, **derived_parameters\n",
    "}\n",
    "\n",
    "max_store_value = power_kernel_parameters[\"MAX_DEVICE_CODE\"] * power_kernel_parameters[\"R_POINTS\"]\n",
    "\n",
    "if max_store_value > power_kernel_parameters[\"MAX_STORE_CODE\"]:\n",
    "    raise RuntimeError(\n",
    "        f\"Max summation over repetitions (={max_store_value} bytes) cannot be stored using (STORAGE_PRECISION={power_kernel_parameters['STORAGE_PRECISION']})\"\n",
    "    )\n",
    "    \n",
    "pk = PowerKernel(power_kernel_parameters)"
   ]
  },
  {
   "cell_type": "code",
   "execution_count": null,
   "metadata": {},
   "outputs": [],
   "source": [
    "from ctypes import cdll\n",
    "ia_ADQAPI = cdll.LoadLibrary(\"/usr/lib/ia_ADQAPI.os\")\n",
    "\n",
    "#ia_ADQAPI = cdll.LoadLibrary(\"build/ia_ADQAPI.os\")"
   ]
  },
  {
   "cell_type": "code",
   "execution_count": 4,
   "metadata": {},
   "outputs": [
    {
     "name": "stdout",
     "output_type": "stream",
     "text": [
      "254200\n",
      "254200\n"
     ]
    }
   ],
   "source": [
    "from ctypes import cdll\n",
    "ia_ADQAPI = cdll.LoadLibrary(\"./build/ia_ADQAPI.os\")\n",
    "sp_digitiser_parameters = {}\n",
    "spd = SpDigitiser(sp_digitiser_parameters)\n",
    "\n",
    "print(ia_ADQAPI.GetMaxNofSamplesFromNofRecords(spd.adq_cu_ptr, 128))\n",
    "print(ia_ADQAPI.GetMaxNofRecordsFromNofSamples(spd.adq_cu_ptr, 128))"
   ]
  },
  {
   "cell_type": "code",
   "execution_count": 3,
   "metadata": {},
   "outputs": [],
   "source": [
    "ADQAPI = cdll.LoadLibrary(\"libadq.so\")\n",
    "# spd.blink()\n",
    "\n",
    "a = 1\n",
    "b = 0\n",
    "# ADQAPI.ADQ214_GetMaxNofSamplesFromNofRecords(\n",
    "#     spd.adq_cu_ptr, 1, a, b\n",
    "# )"
   ]
  },
  {
   "cell_type": "code",
   "execution_count": 4,
   "metadata": {},
   "outputs": [
    {
     "data": {
      "text/plain": [
       "<_FuncPtr object at 0x7fc37e423f20>"
      ]
     },
     "execution_count": 4,
     "metadata": {},
     "output_type": "execute_result"
    }
   ],
   "source": [
    "ADQAPI.ADQ214_GetMaxNofSamplesFromNofRecords()"
   ]
  },
  {
   "cell_type": "code",
   "execution_count": null,
   "metadata": {},
   "outputs": [],
   "source": []
  },
  {
   "cell_type": "code",
   "execution_count": 4,
   "metadata": {},
   "outputs": [
    {
     "data": {
      "text/plain": [
       "{'samples_per_record': 65536, 'number_of_records': 1, 'trigger': 1}"
      ]
     },
     "execution_count": 4,
     "metadata": {},
     "output_type": "execute_result"
    }
   ],
   "source": [
    "\n",
    "\n",
    "sp_digitiser_parameters = {\n",
    "    \"samples_per_record\": 65536,\n",
    "    \"number_of_records\": 1,\n",
    "    \"trigger\": SpDigitiser.TRIGGER_EXTERNAL\n",
    "}\n",
    "sp_digitiser_parameters"
   ]
  },
  {
   "cell_type": "code",
   "execution_count": 3,
   "metadata": {},
   "outputs": [],
   "source": [
    "\n",
    "DEVICE_a_array = cuda.to_device(a_array)\n",
    "DEVICE_b_array = cuda.to_device(b_array)\n",
    "DEVICE_out_array = cuda.device_array(\n",
    "    shape=(total_paramters[\"SP_POINTS\"]),\n",
    "    dtype=total_paramters[\"OUTPUT_ARRAY_TYPE\"],\n",
    ")"
   ]
  },
  {
   "cell_type": "code",
   "execution_count": 31,
   "metadata": {},
   "outputs": [
    {
     "data": {
      "text/plain": [
       "{'RECORD_LENGTH': 65536,\n",
       " 'DEVICE_PRECISION': 14,\n",
       " 'STORAGE_TYPE': int32,\n",
       " 'N': 3,\n",
       " 'PERIOD_IN_NS': 200,\n",
       " 'MAX_DEVICE_CODE': 8192,\n",
       " 'STORAGE_PRECISION': 32,\n",
       " 'MAX_STORE_CODE': 2147483648,\n",
       " 'P': 81,\n",
       " 'NP': 243,\n",
       " 'R': 269,\n",
       " 'TOTAL_POINTS': 65367}"
      ]
     },
     "execution_count": 31,
     "metadata": {},
     "output_type": "execute_result"
    }
   ],
   "source": [
    "pk.kernel(DEVICE_a_array, DEVICE_b_array, DEVICE_out_array)\n",
    "out_array = DEVICE_out_array.copy_to_host()"
   ]
  },
  {
   "cell_type": "code",
   "execution_count": null,
   "metadata": {},
   "outputs": [],
   "source": [
    "BLOCKS_PER_GRID = (NUMBER_OF_FIELD_POINTS_PER_RUN, NUMBER_OF_FIELD_POINTS_PER_RUN)\n",
    "\n",
    "potential_evaluator = PotentialEvaluator(NUMBER_OF_PHI_POINTS, potential_function_cuda)\n",
    "THREADS_PER_BLOCK_potential_evaluation = allocate_max_threads(8)"
   ]
  },
  {
   "cell_type": "code",
   "execution_count": 3,
   "metadata": {},
   "outputs": [
    {
     "data": {
      "text/plain": [
       "{'max_shared_memory_per_block': 49152,\n",
       " 'max_threads_per_block': 1024,\n",
       " 'max_block_dim_x': 1024,\n",
       " 'max_block_dim_y': 1024,\n",
       " 'max_block_dim_z': 64,\n",
       " 'max_grid_dim_x': 2147483647,\n",
       " 'max_grid_dim_y': 65535,\n",
       " 'max_grid_dim_z': 65535}"
      ]
     },
     "execution_count": 3,
     "metadata": {},
     "output_type": "execute_result"
    }
   ],
   "source": [
    "from utils.info import gpu_check\n",
    "\n",
    "gpu_check()"
   ]
  },
  {
   "cell_type": "code",
   "execution_count": null,
   "metadata": {},
   "outputs": [],
   "source": []
  },
  {
   "cell_type": "markdown",
   "metadata": {
    "heading_collapsed": true
   },
   "source": [
    "# Legacy"
   ]
  },
  {
   "cell_type": "code",
   "execution_count": 1,
   "metadata": {
    "hidden": true
   },
   "outputs": [],
   "source": [
    "from utils.array_stacker import ArrayStacker\n",
    "from kernels.potential_minimum_searcher import PotentialMinimumSearcher\n",
    "from kernels.potential_evaluator import PotentialEvaluator\n",
    "from functions.potential import potential_function_cuda\n",
    "from common import plotter\n",
    "from matplotlib import cm\n",
    "from mpl_toolkits.mplot3d import Axes3D\n",
    "import matplotlib.pyplot as plt\n",
    "from numba.cuda.cudadrv.devicearray import DeviceNDArray\n",
    "from numba import cuda\n",
    "import numpy as np\n",
    "import math\n",
    "import itertools\n",
    "from collections import defaultdict\n",
    "from typing import Tuple, List, Dict\n",
    "from utils.info import allocate_max_threads, verify_blocks_per_grid\n",
    "\n",
    "\n",
    "pi = math.pi\n",
    "sin = np.sin\n",
    "cos = np.cos\n",
    "\n",
    "plt.style.use('my_official')"
   ]
  }
 ],
 "metadata": {
  "kernelspec": {
   "display_name": "Python 3",
   "language": "python",
   "name": "python3"
  },
  "language_info": {
   "codemirror_mode": {
    "name": "ipython",
    "version": 3
   },
   "file_extension": ".py",
   "mimetype": "text/x-python",
   "name": "python",
   "nbconvert_exporter": "python",
   "pygments_lexer": "ipython3",
   "version": "3.6.8"
  },
  "toc": {
   "base_numbering": 1,
   "nav_menu": {},
   "number_sections": true,
   "sideBar": true,
   "skip_h1_title": false,
   "title_cell": "Table of Contents",
   "title_sidebar": "Contents",
   "toc_cell": false,
   "toc_position": {},
   "toc_section_display": true,
   "toc_window_display": true
  }
 },
 "nbformat": 4,
 "nbformat_minor": 4
}
