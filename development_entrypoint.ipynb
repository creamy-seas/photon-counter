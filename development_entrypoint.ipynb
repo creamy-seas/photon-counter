{
 "cells": [
  {
   "cell_type": "code",
   "execution_count": 1,
   "metadata": {},
   "outputs": [],
   "source": [
    "from python_app.utils.gpu_info import fetch_gpu_parameters, verify_gpu_allocation\n",
    "import numba as nb\n",
    "import numpy as np\n",
    "from numba import cuda"
   ]
  },
  {
   "cell_type": "markdown",
   "metadata": {},
   "source": [
    "# Power measurements\n",
    "- `Period`: Number of points (each one 2.5ns) in a single pulse sequence\n",
    "- `N`: Number periods to look at\n",
    "- `NP = Period * N`: Total number of points in the plot\n",
    "- `Repetition (R)`: How many times `NP` is repeated\n",
    "\n",
    "`TOTAL_NUMBER_OF_POINTS = R*NP`"
   ]
  },
  {
   "cell_type": "code",
   "execution_count": 7,
   "metadata": {},
   "outputs": [
    {
     "data": {
      "text/plain": [
       "4"
      ]
     },
     "execution_count": 7,
     "metadata": {},
     "output_type": "execute_result"
    }
   ],
   "source": [
    "derived_parameters[\"STORAGE_PRECISION\"]"
   ]
  },
  {
   "cell_type": "code",
   "execution_count": 10,
   "metadata": {},
   "outputs": [
    {
     "data": {
      "text/plain": [
       "type"
      ]
     },
     "execution_count": 10,
     "metadata": {},
     "output_type": "execute_result"
    }
   ],
   "source": [
    "type(np.int32)"
   ]
  },
  {
   "cell_type": "code",
   "execution_count": 8,
   "metadata": {},
   "outputs": [],
   "source": [
    "raw_paramters = {\n",
    "    \"RECORD_LENGTH\": 65536, # Read this parameter from SP-devices\n",
    "    \"DEVICE_PRECISION\": 14, # 14 bit precision from -ve to +ve # constant\n",
    "    \"PROCESSING_ARRAY_TYPE\": np.int32,\n",
    "    \"INPUT_ARRAY_TYPE\": np.int16,\n",
    "    \"OUTPUT_ARRAY_TYPE\": np.float32,\n",
    "    \"N\": 3,\n",
    "    \"PERIOD_IN_NS\": 200\n",
    "}\n",
    "\n",
    "derived_parameters = {}\n",
    "derived_parameters[\"MAX_DEVICE_CODE\"] = 2**(raw_paramters[\"DEVICE_PRECISION\"] - 1)\n",
    "\n",
    "derived_parameters[\"STORAGE_PRECISION\"] = np.dtype(raw_paramters['PROCESSING_ARRAY_TYPE']).itemsize\n",
    "derived_parameters[\"MAX_STORE_CODE\"] = 2**(derived_parameters[\"STORAGE_PRECISION\"] * 8 - 1)\n",
    "\n",
    "derived_parameters[\"P\"] = int(raw_paramters[\"PERIOD_IN_NS\"] // 2.5 + 1)\n",
    "derived_parameters[\"NP\"] = raw_paramters[\"N\"] * derived_parameters[\"P\"]\n",
    "derived_parameters[\"R\"] = raw_paramters[\"RECORD_LENGTH\"] // derived_parameters[\"NP\"]\n",
    "derived_parameters[\"TOTAL_POINTS\"] = derived_parameters[\"R\"] * derived_parameters[\"NP\"]\n",
    "\n",
    "total_paramters = {\n",
    "    **raw_paramters, **derived_parameters\n",
    "}\n",
    "\n",
    "max_summation = total_paramters[\"MAX_DEVICE_CODE\"] * total_paramters[\"R\"]\n",
    "\n",
    "if max_summation > total_paramters[\"MAX_STORE_CODE\"]:\n",
    "    raise RuntimeError(\n",
    "        f\"Max summation over repetitions (={max_summation} bytes) cannot be stored using (STORAGE_PRECISION={total_paramters['STORAGE_PRECISION']})\"\n",
    "    )"
   ]
  },
  {
   "cell_type": "code",
   "execution_count": 31,
   "metadata": {},
   "outputs": [
    {
     "data": {
      "text/plain": [
       "{'RECORD_LENGTH': 65536,\n",
       " 'DEVICE_PRECISION': 14,\n",
       " 'STORAGE_TYPE': int32,\n",
       " 'N': 3,\n",
       " 'PERIOD_IN_NS': 200,\n",
       " 'MAX_DEVICE_CODE': 8192,\n",
       " 'STORAGE_PRECISION': 32,\n",
       " 'MAX_STORE_CODE': 2147483648,\n",
       " 'P': 81,\n",
       " 'NP': 243,\n",
       " 'R': 269,\n",
       " 'TOTAL_POINTS': 65367}"
      ]
     },
     "execution_count": 31,
     "metadata": {},
     "output_type": "execute_result"
    }
   ],
   "source": [
    "total_paramters"
   ]
  },
  {
   "cell_type": "code",
   "execution_count": null,
   "metadata": {},
   "outputs": [],
   "source": [
    "BLOCKS_PER_GRID = (NUMBER_OF_FIELD_POINTS_PER_RUN, NUMBER_OF_FIELD_POINTS_PER_RUN)\n",
    "\n",
    "potential_evaluator = PotentialEvaluator(NUMBER_OF_PHI_POINTS, potential_function_cuda)\n",
    "THREADS_PER_BLOCK_potential_evaluation = allocate_max_threads(8)"
   ]
  },
  {
   "cell_type": "code",
   "execution_count": 3,
   "metadata": {},
   "outputs": [
    {
     "data": {
      "text/plain": [
       "{'max_shared_memory_per_block': 49152,\n",
       " 'max_threads_per_block': 1024,\n",
       " 'max_block_dim_x': 1024,\n",
       " 'max_block_dim_y': 1024,\n",
       " 'max_block_dim_z': 64,\n",
       " 'max_grid_dim_x': 2147483647,\n",
       " 'max_grid_dim_y': 65535,\n",
       " 'max_grid_dim_z': 65535}"
      ]
     },
     "execution_count": 3,
     "metadata": {},
     "output_type": "execute_result"
    }
   ],
   "source": [
    "from utils.info import gpu_check\n",
    "\n",
    "gpu_check()"
   ]
  },
  {
   "cell_type": "code",
   "execution_count": null,
   "metadata": {},
   "outputs": [],
   "source": []
  },
  {
   "cell_type": "markdown",
   "metadata": {
    "heading_collapsed": true
   },
   "source": [
    "# Legacy"
   ]
  },
  {
   "cell_type": "code",
   "execution_count": 1,
   "metadata": {
    "hidden": true
   },
   "outputs": [],
   "source": [
    "from utils.array_stacker import ArrayStacker\n",
    "from kernels.potential_minimum_searcher import PotentialMinimumSearcher\n",
    "from kernels.potential_evaluator import PotentialEvaluator\n",
    "from functions.potential import potential_function_cuda\n",
    "from common import plotter\n",
    "from matplotlib import cm\n",
    "from mpl_toolkits.mplot3d import Axes3D\n",
    "import matplotlib.pyplot as plt\n",
    "from numba.cuda.cudadrv.devicearray import DeviceNDArray\n",
    "from numba import cuda\n",
    "import numpy as np\n",
    "import math\n",
    "import itertools\n",
    "from collections import defaultdict\n",
    "from typing import Tuple, List, Dict\n",
    "from utils.info import allocate_max_threads, verify_blocks_per_grid\n",
    "\n",
    "\n",
    "pi = math.pi\n",
    "sin = np.sin\n",
    "cos = np.cos\n",
    "\n",
    "plt.style.use('my_official')"
   ]
  }
 ],
 "metadata": {
  "kernelspec": {
   "display_name": "Python 3",
   "language": "python",
   "name": "python3"
  },
  "language_info": {
   "codemirror_mode": {
    "name": "ipython",
    "version": 3
   },
   "file_extension": ".py",
   "mimetype": "text/x-python",
   "name": "python",
   "nbconvert_exporter": "python",
   "pygments_lexer": "ipython3",
   "version": "3.6.8"
  },
  "toc": {
   "base_numbering": 1,
   "nav_menu": {},
   "number_sections": true,
   "sideBar": true,
   "skip_h1_title": false,
   "title_cell": "Table of Contents",
   "title_sidebar": "Contents",
   "toc_cell": false,
   "toc_position": {},
   "toc_section_display": true,
   "toc_window_display": true
  }
 },
 "nbformat": 4,
 "nbformat_minor": 4
}
