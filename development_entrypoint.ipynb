{
 "cells": [
  {
   "cell_type": "code",
   "execution_count": 1,
   "metadata": {},
   "outputs": [],
   "source": [
    "import numba as nb\n",
    "import numpy as np\n",
    "from numba import cuda\n",
    "\n",
    "from python_app.utils.gpu_info import fetch_gpu_parameters, verify_gpu_allocation\n",
    "from python_app.power.power_kernel import PowerKernel"
   ]
  },
  {
   "cell_type": "markdown",
   "metadata": {},
   "source": [
    "# Power measurements\n",
    "- `Period`: Number of points (each one 2.5ns) in a single pulse sequence\n",
    "- `N`: Number periods to look at\n",
    "- `NP = Period * N`\n",
    "- `Repetition (R)`: How many times `NP` is repeated for this measurement\n",
    "\n",
    "`TOTAL_NUMBER_OF_POINTS = R*NP`\n",
    "\n",
    "##### Averaging\n",
    "The array of values from digitiser is cast into a 2D array of dimension `NP x R`, and each column of length `R` is summed up"
   ]
  },
  {
   "cell_type": "code",
   "execution_count": 2,
   "metadata": {},
   "outputs": [
    {
     "data": {
      "text/plain": [
       "{'RECORD_LENGTH': 65536,\n",
       " 'DEVICE_PRECISION': 14,\n",
       " 'PROCESSING_ARRAY_TYPE': numpy.int32,\n",
       " 'INPUT_ARRAY_TYPE': numpy.int16,\n",
       " 'OUTPUT_ARRAY_TYPE': numpy.float32,\n",
       " 'N': 3,\n",
       " 'PERIOD_IN_NS': 200,\n",
       " 'MAX_DEVICE_CODE': 8192,\n",
       " 'STORAGE_PRECISION': 4,\n",
       " 'MAX_STORE_CODE': 2147483648,\n",
       " 'P': 81,\n",
       " 'NP_POINTS': 243,\n",
       " 'R_POINTS': 269,\n",
       " 'TOTAL_POINTS': 65367}"
      ]
     },
     "execution_count": 2,
     "metadata": {},
     "output_type": "execute_result"
    }
   ],
   "source": [
    "raw_paramters = {\n",
    "    \"RECORD_LENGTH\": 65536, # Read this parameter from SP-devices\n",
    "    \"DEVICE_PRECISION\": 14, # 14 bit precision from -ve to +ve\n",
    "    \"PROCESSING_ARRAY_TYPE\": np.int32,\n",
    "    \"INPUT_ARRAY_TYPE\": np.int16,\n",
    "    \"OUTPUT_ARRAY_TYPE\": np.float32,\n",
    "    \"N\": 3,\n",
    "    \"PERIOD_IN_NS\": 200\n",
    "}\n",
    "\n",
    "derived_parameters = {}\n",
    "derived_parameters[\"MAX_DEVICE_CODE\"] = 2**(raw_paramters[\"DEVICE_PRECISION\"] - 1)\n",
    "\n",
    "# We will sum up all repetitions and then take average. This makes sure that the allocate processing array is able to store the max value\n",
    "derived_parameters[\"STORAGE_PRECISION\"] = np.dtype(raw_paramters['PROCESSING_ARRAY_TYPE']).itemsize\n",
    "derived_parameters[\"MAX_STORE_CODE\"] = 2**(derived_parameters[\"STORAGE_PRECISION\"] * 8 - 1)\n",
    "\n",
    "derived_parameters[\"P\"] = int(raw_paramters[\"PERIOD_IN_NS\"] // 2.5 + 1)\n",
    "derived_parameters[\"NP_POINTS\"] = raw_paramters[\"N\"] * derived_parameters[\"P\"]\n",
    "derived_parameters[\"R_POINTS\"] = raw_paramters[\"RECORD_LENGTH\"] // derived_parameters[\"NP_POINTS\"]\n",
    "derived_parameters[\"TOTAL_POINTS\"] = derived_parameters[\"R_POINTS\"] * derived_parameters[\"NP_POINTS\"]\n",
    "\n",
    "total_paramters = {\n",
    "    **raw_paramters, **derived_parameters\n",
    "}\n",
    "\n",
    "max_store_value = total_paramters[\"MAX_DEVICE_CODE\"] * total_paramters[\"R_POINTS\"]\n",
    "\n",
    "if max_store_value > total_paramters[\"MAX_STORE_CODE\"]:\n",
    "    raise RuntimeError(\n",
    "        f\"Max summation over repetitions (={max_store_value} bytes) cannot be stored using (STORAGE_PRECISION={total_paramters['STORAGE_PRECISION']})\"\n",
    "    )\n",
    "    \n",
    "total_paramters"
   ]
  },
  {
   "cell_type": "code",
   "execution_count": 5,
   "metadata": {},
   "outputs": [
    {
     "ename": "NotImplementedError",
     "evalue": "<function shared.array at 0x7fbc67e7af28> cannot be called from host code",
     "output_type": "error",
     "traceback": [
      "\u001b[0;31m---------------------------------------------------------------------------\u001b[0m",
      "\u001b[0;31mNotImplementedError\u001b[0m                       Traceback (most recent call last)",
      "\u001b[0;32m<ipython-input-5-2c60dfa812f3>\u001b[0m in \u001b[0;36m<module>\u001b[0;34m\u001b[0m\n\u001b[0;32m----> 1\u001b[0;31m \u001b[0mcuda\u001b[0m\u001b[0;34m.\u001b[0m\u001b[0mshared\u001b[0m\u001b[0;34m.\u001b[0m\u001b[0marray\u001b[0m\u001b[0;34m(\u001b[0m\u001b[0;34m)\u001b[0m\u001b[0;34m\u001b[0m\u001b[0;34m\u001b[0m\u001b[0m\n\u001b[0m",
      "\u001b[0;32m~/.config/python_vi/cuda-vi/lib64/python3.6/site-packages/numba/cuda/stubs.py\u001b[0m in \u001b[0;36mwrapped\u001b[0;34m(*args, **kwargs)\u001b[0m\n\u001b[1;32m     32\u001b[0m     \u001b[0;34m@\u001b[0m\u001b[0mfunctools\u001b[0m\u001b[0;34m.\u001b[0m\u001b[0mwraps\u001b[0m\u001b[0;34m(\u001b[0m\u001b[0mfn\u001b[0m\u001b[0;34m)\u001b[0m\u001b[0;34m\u001b[0m\u001b[0;34m\u001b[0m\u001b[0m\n\u001b[1;32m     33\u001b[0m     \u001b[0;32mdef\u001b[0m \u001b[0mwrapped\u001b[0m\u001b[0;34m(\u001b[0m\u001b[0;34m*\u001b[0m\u001b[0margs\u001b[0m\u001b[0;34m,\u001b[0m \u001b[0;34m**\u001b[0m\u001b[0mkwargs\u001b[0m\u001b[0;34m)\u001b[0m\u001b[0;34m:\u001b[0m\u001b[0;34m\u001b[0m\u001b[0;34m\u001b[0m\u001b[0m\n\u001b[0;32m---> 34\u001b[0;31m         \u001b[0;32mraise\u001b[0m \u001b[0mNotImplementedError\u001b[0m\u001b[0;34m(\u001b[0m\u001b[0;34m\"%s cannot be called from host code\"\u001b[0m \u001b[0;34m%\u001b[0m \u001b[0mfn\u001b[0m\u001b[0;34m)\u001b[0m\u001b[0;34m\u001b[0m\u001b[0;34m\u001b[0m\u001b[0m\n\u001b[0m\u001b[1;32m     35\u001b[0m     \u001b[0;32mreturn\u001b[0m \u001b[0mwrapped\u001b[0m\u001b[0;34m\u001b[0m\u001b[0;34m\u001b[0m\u001b[0m\n\u001b[1;32m     36\u001b[0m \u001b[0;34m\u001b[0m\u001b[0m\n",
      "\u001b[0;31mNotImplementedError\u001b[0m: <function shared.array at 0x7fbc67e7af28> cannot be called from host code"
     ]
    }
   ],
   "source": [
    "cuda.shared.array()"
   ]
  },
  {
   "cell_type": "code",
   "execution_count": 3,
   "metadata": {},
   "outputs": [],
   "source": [
    "pk = PowerKernel(total_paramters)\n",
    "\n",
    "DEVICE_a_array = cuda.to_device(a_array)\n",
    "DEVICE_b_array = cuda.to_device(b_array)\n",
    "DEVICE_out_array = cuda.device_array(\n",
    "    shape=(total_paramters[\"NP_POINTS\"]),\n",
    "    dtype=total_paramters[\"OUTPUT_ARRAY_TYPE\"],\n",
    ")"
   ]
  },
  {
   "cell_type": "code",
   "execution_count": 31,
   "metadata": {},
   "outputs": [
    {
     "data": {
      "text/plain": [
       "{'RECORD_LENGTH': 65536,\n",
       " 'DEVICE_PRECISION': 14,\n",
       " 'STORAGE_TYPE': int32,\n",
       " 'N': 3,\n",
       " 'PERIOD_IN_NS': 200,\n",
       " 'MAX_DEVICE_CODE': 8192,\n",
       " 'STORAGE_PRECISION': 32,\n",
       " 'MAX_STORE_CODE': 2147483648,\n",
       " 'P': 81,\n",
       " 'NP': 243,\n",
       " 'R': 269,\n",
       " 'TOTAL_POINTS': 65367}"
      ]
     },
     "execution_count": 31,
     "metadata": {},
     "output_type": "execute_result"
    }
   ],
   "source": [
    "pk.kernel(DEVICE_a_array, DEVICE_b_array, DEVICE_out_array)\n",
    "out_array = DEVICE_out_array.copy_to_host()"
   ]
  },
  {
   "cell_type": "code",
   "execution_count": null,
   "metadata": {},
   "outputs": [],
   "source": [
    "BLOCKS_PER_GRID = (NUMBER_OF_FIELD_POINTS_PER_RUN, NUMBER_OF_FIELD_POINTS_PER_RUN)\n",
    "\n",
    "potential_evaluator = PotentialEvaluator(NUMBER_OF_PHI_POINTS, potential_function_cuda)\n",
    "THREADS_PER_BLOCK_potential_evaluation = allocate_max_threads(8)"
   ]
  },
  {
   "cell_type": "code",
   "execution_count": 3,
   "metadata": {},
   "outputs": [
    {
     "data": {
      "text/plain": [
       "{'max_shared_memory_per_block': 49152,\n",
       " 'max_threads_per_block': 1024,\n",
       " 'max_block_dim_x': 1024,\n",
       " 'max_block_dim_y': 1024,\n",
       " 'max_block_dim_z': 64,\n",
       " 'max_grid_dim_x': 2147483647,\n",
       " 'max_grid_dim_y': 65535,\n",
       " 'max_grid_dim_z': 65535}"
      ]
     },
     "execution_count": 3,
     "metadata": {},
     "output_type": "execute_result"
    }
   ],
   "source": [
    "from utils.info import gpu_check\n",
    "\n",
    "gpu_check()"
   ]
  },
  {
   "cell_type": "code",
   "execution_count": null,
   "metadata": {},
   "outputs": [],
   "source": []
  },
  {
   "cell_type": "markdown",
   "metadata": {
    "heading_collapsed": true
   },
   "source": [
    "# Legacy"
   ]
  },
  {
   "cell_type": "code",
   "execution_count": 1,
   "metadata": {
    "hidden": true
   },
   "outputs": [],
   "source": [
    "from utils.array_stacker import ArrayStacker\n",
    "from kernels.potential_minimum_searcher import PotentialMinimumSearcher\n",
    "from kernels.potential_evaluator import PotentialEvaluator\n",
    "from functions.potential import potential_function_cuda\n",
    "from common import plotter\n",
    "from matplotlib import cm\n",
    "from mpl_toolkits.mplot3d import Axes3D\n",
    "import matplotlib.pyplot as plt\n",
    "from numba.cuda.cudadrv.devicearray import DeviceNDArray\n",
    "from numba import cuda\n",
    "import numpy as np\n",
    "import math\n",
    "import itertools\n",
    "from collections import defaultdict\n",
    "from typing import Tuple, List, Dict\n",
    "from utils.info import allocate_max_threads, verify_blocks_per_grid\n",
    "\n",
    "\n",
    "pi = math.pi\n",
    "sin = np.sin\n",
    "cos = np.cos\n",
    "\n",
    "plt.style.use('my_official')"
   ]
  }
 ],
 "metadata": {
  "kernelspec": {
   "display_name": "Python 3",
   "language": "python",
   "name": "python3"
  },
  "language_info": {
   "codemirror_mode": {
    "name": "ipython",
    "version": 3
   },
   "file_extension": ".py",
   "mimetype": "text/x-python",
   "name": "python",
   "nbconvert_exporter": "python",
   "pygments_lexer": "ipython3",
   "version": "3.6.8"
  },
  "toc": {
   "base_numbering": 1,
   "nav_menu": {},
   "number_sections": true,
   "sideBar": true,
   "skip_h1_title": false,
   "title_cell": "Table of Contents",
   "title_sidebar": "Contents",
   "toc_cell": false,
   "toc_position": {},
   "toc_section_display": true,
   "toc_window_display": true
  }
 },
 "nbformat": 4,
 "nbformat_minor": 4
}
