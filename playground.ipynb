{
 "cells": [
  {
   "cell_type": "markdown",
   "metadata": {},
   "source": [
    "# Building"
   ]
  },
  {
   "cell_type": "markdown",
   "metadata": {},
   "source": [
    "## Check memory allocation"
   ]
  },
  {
   "cell_type": "code",
   "execution_count": 1,
   "metadata": {},
   "outputs": [],
   "source": [
    "from python_app.utils import gpu_utils\n",
    "import subprocess\n",
    "import os\n",
    "\n",
    "from python_app.utils.terminal_colour import TerminalColour\n",
    "\n",
    "R_POINTS = 254000\n",
    "R_POINTS_PER_CHUNK = 1000\n",
    "SP_POINTS = 200\n",
    "\n",
    "def HANDLE_CPP_ERROR(result: int):\n",
    "    if (result != 0):\n",
    "        with open(\"libia.log\", \"r\") as fin:\n",
    "            for line in fin:\n",
    "                pass\n",
    "            print(f\"{TerminalColour.FAIL}Error in CPP function:{TerminalColour.ENDC} {line}\")"
   ]
  },
  {
   "cell_type": "code",
   "execution_count": 2,
   "metadata": {},
   "outputs": [
    {
     "name": "stdout",
     "output_type": "stream",
     "text": [
      "🗑  Cleaning build objects\n",
      "removed ‘./build/playground/playground.o’\n",
      "removed ‘./build/src/logging.o’\n",
      "removed ‘./build/src/power_kernel_cpu.o’\n",
      "removed ‘./build/src/power_kernel_gpu.o’\n",
      "removed ‘./build/src/power_kernel_gpu_utils.o’\n",
      "removed ‘./build/src/power_pipeline.o’\n",
      "removed ‘./build/src/progress_bar.o’\n",
      "removed ‘./build/src/sp_digitiser.o’\n",
      "removed ‘./build/src/utils_gpu.o’\n",
      "removed ‘./build/src/utils.o’\n",
      "removed ‘libia.log’\n",
      "removed ‘spd_adqcontrolunit_trace.log’\n",
      "removed ‘spd_device_t214_pcie_00130000_trace.log’\n",
      "✅ [***] Done\n",
      "\n",
      "Using flags: -D PYTHON=1 -D TESTENV=1 -D SP_POINTS=200 -D R_POINTS=254000 -D R_POINTS_PER_CHUNK=1000\n",
      "🍕 [cpp] Building src/utils.cpp ⟶ build/./src/utils.o\n",
      "🍕 [cpp] Building src/sp_digitiser.cpp ⟶ build/./src/sp_digitiser.o\n",
      "🍕 [cpp] Building src/progress_bar.cpp ⟶ build/./src/progress_bar.o\n",
      "🍕 [cpp] Building src/power_kernel_gpu_utils.cpp ⟶ build/./src/power_kernel_gpu_utils.o\n",
      "🍕 [cpp] Building src/utils_gpu.cpp ⟶ build/./src/utils_gpu.o\n",
      "🍕 [cpp] Building src/power_kernel_cpu.cpp ⟶ build/./src/power_kernel_cpu.o\n",
      "🍕 [cpp] Building src/logging.cpp ⟶ build/./src/logging.o\n",
      "🍕 [cpp] Building src/power_pipeline.cpp ⟶ build/./src/power_pipeline.o\n",
      "🐍 [cu ] Building src/power_kernel_gpu.cu ⟶ build/./src/power_kernel_gpu.o\n",
      "✅ [***] Built files in \"./src\"\n",
      "\n",
      "🏗  [***] Building binary file ./bin/libia.so\n",
      "✅ [***] Built binary ./bin/libia.so\n",
      "\n",
      "\n"
     ]
    }
   ],
   "source": [
    "# Build and remove logs\n",
    "p = subprocess.run(\n",
    "    \"cd csrc && make --no-print-directory lib\", shell=True,\n",
    "    stdout=subprocess.PIPE, text=True,\n",
    "    env={ \n",
    "        **os.environ,\n",
    "        \"R_POINTS\": f\"{254000}\",\n",
    "        \"R_POINTS_PER_CHUNK\": f\"{1000}\",\n",
    "        \"SP_POINTS\": f\"{200}\"\n",
    "    }\n",
    ")\n",
    "print(p.stdout)\n",
    "\n",
    "try:\n",
    "    os.remove(\"libia.log\")\n",
    "except: \n",
    "    pass"
   ]
  },
  {
   "cell_type": "code",
   "execution_count": 3,
   "metadata": {},
   "outputs": [],
   "source": [
    "# Loading of library\n",
    "import ctypes\n",
    "from python_app.utils import  gpu_utils\n",
    "\n",
    "try:\n",
    "    libia = ctypes.cdll.LoadLibrary(\"./bin/libia.so\")\n",
    "except Exception as err:\n",
    "    raise RuntimeError(\n",
    "        f\"Failed to load the custom photon-counting library - make sure that it has been built!: {err}\"\n",
    "    )\n",
    "# Check parameters that kernel was compiled with - some checks are easier to do in python.\n",
    "libia.check_power_kernel_parameters()\n",
    "gpu_utils.check_gpu_allocation(\n",
    "    **{\n",
    "        \"grid_dim_x\": libia.fetch_power_kernel_blocks(),\n",
    "        \"block_dim_x\": libia.fetch_power_kernel_threads()\n",
    "    }\n",
    ")"
   ]
  },
  {
   "cell_type": "code",
   "execution_count": 4,
   "metadata": {},
   "outputs": [
    {
     "name": "stdout",
     "output_type": "stream",
     "text": [
      "\u001b[1;34m\u001b[4mSP-DIGITISER\u001b[0m:   \n",
      "Max Samples for (r_points=254000): 263\n",
      "Max Records for (sp_points=200): 254200\n",
      "\u001b[1;34m\u001b[4mSP-DIGITISER\u001b[0m:   Trigger frequency: 1300kHz\n"
     ]
    }
   ],
   "source": [
    "# Setup digitiser\n",
    "from python_app.sp_digitiser import SpDigitiser\n",
    "\n",
    "sp_digitiser_parameters = {\n",
    "    \"r_points\": R_POINTS,\n",
    "    \"sp_points\": SP_POINTS,\n",
    "    \"delay\": 0,\n",
    "    \"trigger_type\": SpDigitiser.TRIGGER_EXTERNAL,\n",
    "#     \"trigger_type\": SpDigitiser.TRIGGER_SOFTWARE,\n",
    "    \"channelA_gain\": 1,\n",
    "    \"channelB_gain\": 1,\n",
    "    \"channelA_offset\": 0,\n",
    "    \"channelB_offset\": 0,\n",
    "    \"clock_source\": SpDigitiser.INTERNAL_CLOCK_SOURCE_INTERNAL_10MHZ_REFFERENCE,\n",
    "    \"frequency_mode\": SpDigitiser.HIGH_FREQUENCY_MODE\n",
    "}\n",
    "spd = SpDigitiser(sp_digitiser_parameters, libia)"
   ]
  },
  {
   "cell_type": "code",
   "execution_count": 5,
   "metadata": {},
   "outputs": [],
   "source": [
    "libia.run_power_measurements.argtypes = [ctypes.c_void_p, ctypes.c_ulong, ctypes.c_char_p]"
   ]
  },
  {
   "cell_type": "code",
   "execution_count": 5,
   "metadata": {},
   "outputs": [],
   "source": [
    "# Launch power measurements\n",
    "NO_REPETITIONS = 2**61\n",
    "\n",
    "HANDLE_CPP_ERROR(\n",
    "    libia.run_power_measurements(spd.adq_cu_ptr, 10, ctypes.create_string_buffer(b'test',size=10))\n",
    ")    "
   ]
  },
  {
   "cell_type": "code",
   "execution_count": 7,
   "metadata": {},
   "outputs": [
    {
     "name": "stdout",
     "output_type": "stream",
     "text": [
      "\u001b[1;34m\u001b[4mSP-DIGITISER\u001b[0m:   🕱 Disconnected from digitiser.\n"
     ]
    }
   ],
   "source": [
    "spd.__del__()"
   ]
  },
  {
   "cell_type": "markdown",
   "metadata": {},
   "source": [
    "# Power measurements\n",
    "- `Period`: Number of points (each one 2.5ns) in a single pulse sequence\n",
    "- `N`: Number periods to look at\n",
    "- `NP = Period * N`\n",
    "- `Repetition (R)`: How many times `NP` is repeated for this measurement\n",
    "\n",
    "`TOTAL_NUMBER_OF_POINTS = R*NP`\n",
    "\n",
    "##### Averaging\n",
    "The array of values from digitiser is cast into a 2D array of dimension `NP x R`, and each column of length `R` is summed up"
   ]
  },
  {
   "cell_type": "code",
   "execution_count": 4,
   "metadata": {},
   "outputs": [
    {
     "name": "stdout",
     "output_type": "stream",
     "text": [
      "\u001b[34m\u001b[1mPOWER-KERNEL\u001b[0m:                                       Loaded following parameters:\n",
      "{\n",
      "    \"RECORD_LENGTH\": 65536,\n",
      "    \"DEVICE_PRECISION\": 14,\n",
      "    \"PROCESSING_ARRAY_TYPE\": \"<class 'numpy.int32'>\",\n",
      "    \"INPUT_ARRAY_TYPE\": \"<class 'numpy.int16'>\",\n",
      "    \"OUTPUT_ARRAY_TYPE\": \"<class 'numpy.float32'>\",\n",
      "    \"N\": 8,\n",
      "    \"PERIOD_IN_NS\": 160,\n",
      "    \"MAX_DEVICE_CODE\": 8192,\n",
      "    \"STORAGE_PRECISION\": 4,\n",
      "    \"MAX_STORE_CODE\": 2147483648,\n",
      "    \"P\": 64,\n",
      "    \"SP_POINTS\": 512,\n",
      "    \"R_POINTS\": 128,\n",
      "    \"TOTAL_POINTS\": 65536,\n",
      "    \"BLOCKS\": 512,\n",
      "    \"THREADS_PER_BLOCK\": 128\n",
      "}\n"
     ]
    }
   ],
   "source": [
    "raw_paramters = {\n",
    "    \"RECORD_LENGTH\": 65536, # Read this parameter from SP-devices\n",
    "    \"DEVICE_PRECISION\": 14, # 14 bit precision from -ve to +ve\n",
    "    \"PROCESSING_ARRAY_TYPE\": np.int32,\n",
    "    \"INPUT_ARRAY_TYPE\": np.int16,\n",
    "    \"OUTPUT_ARRAY_TYPE\": np.float32,\n",
    "    \"N\": 8,\n",
    "    \"PERIOD_IN_NS\": 160\n",
    "}\n",
    "\n",
    "\n",
    "derived_parameters = {}\n",
    "derived_parameters[\"MAX_DEVICE_CODE\"] = 2**(raw_paramters[\"DEVICE_PRECISION\"] - 1)\n",
    "\n",
    "# We will sum up all repetitions and then take average. This makes sure that the allocate processing array is able to store the max value\n",
    "derived_parameters[\"STORAGE_PRECISION\"] = np.dtype(raw_paramters['PROCESSING_ARRAY_TYPE']).itemsize\n",
    "derived_parameters[\"MAX_STORE_CODE\"] = 2**(derived_parameters[\"STORAGE_PRECISION\"] * 8 - 1)\n",
    "\n",
    "derived_parameters[\"P\"] = int(raw_paramters[\"PERIOD_IN_NS\"] // 2.5)\n",
    "derived_parameters[\"SP_POINTS\"] = raw_paramters[\"N\"] * derived_parameters[\"P\"]\n",
    "derived_parameters[\"R_POINTS\"] = raw_paramters[\"RECORD_LENGTH\"] // derived_parameters[\"SP_POINTS\"]\n",
    "derived_parameters[\"TOTAL_POINTS\"] = derived_parameters[\"R_POINTS\"] * derived_parameters[\"SP_POINTS\"]\n",
    "\n",
    "# Allocate blocks and threads\n",
    "derived_parameters[\"BLOCKS\"] = min(GPU_PARAMETERS[\"grid_dim_x\"], derived_parameters[\"SP_POINTS\"])\n",
    "derived_parameters[\"THREADS_PER_BLOCK\"] = min(GPU_PARAMETERS[\"threads_per_block\"], derived_parameters[\"R_POINTS\"])\n",
    "                                   \n",
    "power_kernel_parameters = {\n",
    "    **raw_paramters, **derived_parameters\n",
    "}\n",
    "\n",
    "max_store_value = power_kernel_parameters[\"MAX_DEVICE_CODE\"] * power_kernel_parameters[\"R_POINTS\"]\n",
    "\n",
    "if max_store_value > power_kernel_parameters[\"MAX_STORE_CODE\"]:\n",
    "    raise RuntimeError(\n",
    "        f\"Max summation over repetitions (={max_store_value} bytes) cannot be stored using (STORAGE_PRECISION={power_kernel_parameters['STORAGE_PRECISION']})\"\n",
    "    )\n",
    "    \n",
    "pk = PowerKernel(power_kernel_parameters)"
   ]
  },
  {
   "cell_type": "code",
   "execution_count": null,
   "metadata": {},
   "outputs": [],
   "source": [
    "from ctypes import cdll\n",
    "libia = cdll.LoadLibrary(\"/usr/lib/libia.os\")\n",
    "\n",
    "#libia = cdll.LoadLibrary(\"build/libia.os\")"
   ]
  },
  {
   "cell_type": "code",
   "execution_count": 4,
   "metadata": {},
   "outputs": [
    {
     "name": "stdout",
     "output_type": "stream",
     "text": [
      "254200\n",
      "254200\n"
     ]
    }
   ],
   "source": [
    "from ctypes import cdll\n",
    "libia = cdll.LoadLibrary(\"./build/libia.os\")\n",
    "sp_digitiser_parameters = {}\n",
    "spd = SpDigitiser(sp_digitiser_parameters)\n",
    "\n",
    "print(libia.GetMaxNofSamplesFromNofRecords(spd.adq_cu_ptr, 128))\n",
    "print(libia.GetMaxNofRecordsFromNofSamples(spd.adq_cu_ptr, 128))"
   ]
  },
  {
   "cell_type": "code",
   "execution_count": 8,
   "metadata": {},
   "outputs": [],
   "source": [
    "ADQAPI = cdll.LoadLibrary(\"libadq.so\")\n",
    "# spd.blink()\n",
    "\n",
    "a = 1\n",
    "b = 0\n",
    "# ADQAPI.ADQ214_GetMaxNofSamplesFromNofRecords(\n",
    "#     spd.adq_cu_ptr, 1, a, b\n",
    "# )"
   ]
  },
  {
   "cell_type": "code",
   "execution_count": null,
   "metadata": {},
   "outputs": [],
   "source": [
    "ADQAPI.ADQ214_GetMaxNofSamplesFromNofRecords()"
   ]
  },
  {
   "cell_type": "code",
   "execution_count": null,
   "metadata": {},
   "outputs": [],
   "source": []
  },
  {
   "cell_type": "code",
   "execution_count": 4,
   "metadata": {},
   "outputs": [
    {
     "data": {
      "text/plain": [
       "{'samples_per_record': 65536, 'number_of_records': 1, 'trigger': 1}"
      ]
     },
     "execution_count": 4,
     "metadata": {},
     "output_type": "execute_result"
    }
   ],
   "source": [
    "\n",
    "\n",
    "sp_digitiser_parameters = {\n",
    "    \"samples_per_record\": 65536,\n",
    "    \"number_of_records\": 1,\n",
    "    \"trigger\": SpDigitiser.TRIGGER_EXTERNAL\n",
    "}\n",
    "sp_digitiser_parameters"
   ]
  },
  {
   "cell_type": "code",
   "execution_count": 3,
   "metadata": {},
   "outputs": [],
   "source": [
    "\n",
    "DEVICE_a_array = cuda.to_device(a_array)\n",
    "DEVICE_b_array = cuda.to_device(b_array)\n",
    "DEVICE_out_array = cuda.device_array(\n",
    "    shape=(total_paramters[\"SP_POINTS\"]),\n",
    "    dtype=total_paramters[\"OUTPUT_ARRAY_TYPE\"],\n",
    ")"
   ]
  },
  {
   "cell_type": "code",
   "execution_count": 31,
   "metadata": {},
   "outputs": [
    {
     "data": {
      "text/plain": [
       "{'RECORD_LENGTH': 65536,\n",
       " 'DEVICE_PRECISION': 14,\n",
       " 'STORAGE_TYPE': int32,\n",
       " 'N': 3,\n",
       " 'PERIOD_IN_NS': 200,\n",
       " 'MAX_DEVICE_CODE': 8192,\n",
       " 'STORAGE_PRECISION': 32,\n",
       " 'MAX_STORE_CODE': 2147483648,\n",
       " 'P': 81,\n",
       " 'NP': 243,\n",
       " 'R': 269,\n",
       " 'TOTAL_POINTS': 65367}"
      ]
     },
     "execution_count": 31,
     "metadata": {},
     "output_type": "execute_result"
    }
   ],
   "source": [
    "pk.kernel(DEVICE_a_array, DEVICE_b_array, DEVICE_out_array)\n",
    "out_array = DEVICE_out_array.copy_to_host()"
   ]
  },
  {
   "cell_type": "code",
   "execution_count": 3,
   "metadata": {},
   "outputs": [
    {
     "data": {
      "text/plain": [
       "{'max_shared_memory_per_block': 49152,\n",
       " 'max_threads_per_block': 1024,\n",
       " 'max_block_dim_x': 1024,\n",
       " 'max_block_dim_y': 1024,\n",
       " 'max_block_dim_z': 64,\n",
       " 'max_grid_dim_x': 2147483647,\n",
       " 'max_grid_dim_y': 65535,\n",
       " 'max_grid_dim_z': 65535}"
      ]
     },
     "execution_count": 3,
     "metadata": {},
     "output_type": "execute_result"
    }
   ],
   "source": [
    "from utils.info import gpu_check\n",
    "\n",
    "gpu_check()"
   ]
  },
  {
   "cell_type": "code",
   "execution_count": null,
   "metadata": {},
   "outputs": [],
   "source": []
  },
  {
   "cell_type": "markdown",
   "metadata": {
    "heading_collapsed": true
   },
   "source": [
    "# Legacy"
   ]
  },
  {
   "cell_type": "code",
   "execution_count": 1,
   "metadata": {
    "hidden": true
   },
   "outputs": [],
   "source": [
    "from utils.array_stacker import ArrayStacker\n",
    "from kernels.potential_minimum_searcher import PotentialMinimumSearcher\n",
    "from kernels.potential_evaluator import PotentialEvaluator\n",
    "from functions.potential import potential_function_cuda\n",
    "from common import plotter\n",
    "from matplotlib import cm\n",
    "from mpl_toolkits.mplot3d import Axes3D\n",
    "import matplotlib.pyplot as plt\n",
    "from numba.cuda.cudadrv.devicearray import DeviceNDArray\n",
    "from numba import cuda\n",
    "import numpy as np\n",
    "import math\n",
    "import itertools\n",
    "from collections import defaultdict\n",
    "from typing import Tuple, List, Dict\n",
    "from utils.info import allocate_max_threads, verify_blocks_per_grid\n",
    "\n",
    "\n",
    "pi = math.pi\n",
    "sin = np.sin\n",
    "cos = np.cos\n",
    "\n",
    "plt.style.use('my_official')"
   ]
  }
 ],
 "metadata": {
  "kernelspec": {
   "display_name": "Python 3",
   "language": "python",
   "name": "python3"
  },
  "language_info": {
   "codemirror_mode": {
    "name": "ipython",
    "version": 3
   },
   "file_extension": ".py",
   "mimetype": "text/x-python",
   "name": "python",
   "nbconvert_exporter": "python",
   "pygments_lexer": "ipython3",
   "version": "3.8.3"
  },
  "toc": {
   "base_numbering": 1,
   "nav_menu": {},
   "number_sections": true,
   "sideBar": true,
   "skip_h1_title": false,
   "title_cell": "Table of Contents",
   "title_sidebar": "Contents",
   "toc_cell": false,
   "toc_position": {},
   "toc_section_display": true,
   "toc_window_display": true
  }
 },
 "nbformat": 4,
 "nbformat_minor": 4
}
